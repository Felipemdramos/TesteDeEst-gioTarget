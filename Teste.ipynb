{
  "nbformat": 4,
  "nbformat_minor": 0,
  "metadata": {
    "colab": {
      "provenance": [],
      "authorship_tag": "ABX9TyPyvpUnkTDYbreh3nyy0+eg",
      "include_colab_link": true
    },
    "kernelspec": {
      "name": "python3",
      "display_name": "Python 3"
    },
    "language_info": {
      "name": "python"
    }
  },
  "cells": [
    {
      "cell_type": "markdown",
      "metadata": {
        "id": "view-in-github",
        "colab_type": "text"
      },
      "source": [
        "<a href=\"https://colab.research.google.com/github/Felipemdramos/TesteDeEst-gioTarget/blob/main/Teste.ipynb\" target=\"_parent\"><img src=\"https://colab.research.google.com/assets/colab-badge.svg\" alt=\"Open In Colab\"/></a>"
      ]
    },
    {
      "cell_type": "markdown",
      "source": [
        "Tópico 1: Sequência de Fibonacci"
      ],
      "metadata": {
        "id": "h6GfWHejSzZc"
      }
    },
    {
      "cell_type": "code",
      "execution_count": 1,
      "metadata": {
        "colab": {
          "base_uri": "https://localhost:8080/",
          "height": 36
        },
        "id": "qXEANfi5SQIU",
        "outputId": "2ea9f8f1-9097-4490-d452-be38db3d98ff"
      },
      "outputs": [
        {
          "output_type": "execute_result",
          "data": {
            "text/plain": [
              "'A sequência até o número 10 é: [0, 1, 1, 2, 3, 5, 8, 13, 21, 34, 55] e o número 10 não está na sequência.'"
            ],
            "application/vnd.google.colaboratory.intrinsic+json": {
              "type": "string"
            }
          },
          "metadata": {},
          "execution_count": 1
        }
      ],
      "source": [
        "def fibonacci(n):\n",
        "    if n <= 0:\n",
        "        return \"O número deve ser positivo!\"\n",
        "    fib = [0, 1]\n",
        "    while len(fib) <= n:\n",
        "        fib.append(fib[-1] + fib[-2])\n",
        "    if n in fib:\n",
        "        return f\"A sequência até o número {n} é: {fib[:fib.index(n)+1]} e o número {n} está na sequência.\"\n",
        "    else:\n",
        "        return f\"A sequência até o número {n} é: {fib} e o número {n} não está na sequência.\"\n",
        "\n",
        "# Exemplo de uso\n",
        "fibonacci(10)"
      ]
    },
    {
      "cell_type": "markdown",
      "source": [
        "Tópico 2: Verificação de 'a' em uma string"
      ],
      "metadata": {
        "id": "Y8v2h0hGS33D"
      }
    },
    {
      "cell_type": "code",
      "source": [
        "def count_a(string):\n",
        "    count = string.lower().count('a')\n",
        "    return f\"A letra 'a' aparece {count} vezes na string.\"\n",
        "\n",
        "# Exemplo de uso\n",
        "count_a(\"Banana\")\n"
      ],
      "metadata": {
        "colab": {
          "base_uri": "https://localhost:8080/",
          "height": 36
        },
        "id": "80gdGIvRSyyT",
        "outputId": "d85ee0f3-b86e-45f3-e354-d4fc2f97a50a"
      },
      "execution_count": 5,
      "outputs": [
        {
          "output_type": "execute_result",
          "data": {
            "text/plain": [
              "\"A letra 'a' aparece 3 vezes na string.\""
            ],
            "application/vnd.google.colaboratory.intrinsic+json": {
              "type": "string"
            }
          },
          "metadata": {},
          "execution_count": 5
        }
      ]
    },
    {
      "cell_type": "markdown",
      "source": [],
      "metadata": {
        "id": "JOWADsWWceAi"
      }
    },
    {
      "cell_type": "markdown",
      "source": [
        "Tópico 3: Cálculo do valor da variável SOMA"
      ],
      "metadata": {
        "id": "0YGAXPcHS6Ot"
      }
    },
    {
      "cell_type": "code",
      "source": [
        "INDICE = 12\n",
        "SOMA = 0\n",
        "K = 1\n",
        "while K < INDICE:\n",
        "    K += 1\n",
        "    SOMA += K\n",
        "\n",
        "print(\"Valor de SOMA:\", SOMA)\n"
      ],
      "metadata": {
        "colab": {
          "base_uri": "https://localhost:8080/"
        },
        "id": "QqxVJJYzSzBK",
        "outputId": "a9688878-29ac-4403-e186-0c71e617bfe0"
      },
      "execution_count": 6,
      "outputs": [
        {
          "output_type": "stream",
          "name": "stdout",
          "text": [
            "Valor de SOMA: 77\n"
          ]
        }
      ]
    },
    {
      "cell_type": "markdown",
      "source": [
        "Tópico 4: Lógica das sequências"
      ],
      "metadata": {
        "id": "lqsrR00OS7zT"
      }
    },
    {
      "cell_type": "code",
      "source": [
        "def proximo_elemento(sequencia):\n",
        "    if sequencia == 'a':\n",
        "        return 9  # Diferença de 2 (progressão aritmética) 3-1 = 2. 5-3 = 2, 7-5 = 2 portanto  7+2 = 9\n",
        "    elif sequencia == 'b':\n",
        "        return 128  # Multiplicação por 2 (progressão geométrica) 1*2 = 2, 2*2 = 4, 4*2 = 8, 8 * 2 = 16,... 64 * 2 = 128\n",
        "    elif sequencia == 'c':\n",
        "        return  49  # Quadrados perfeitos(Um numero multiplicado por ele mesmo) 1x1 =1 , 2x2 = 4, 3x3 = 9 , 4x4 = 16, ...7x7 = 49\n",
        "    elif sequencia == 'd':\n",
        "        return 100  # Quadrados perfeitos multiplicado 4, pulado o zero, 1 * 4 = 4, 4 * 4 = 16, 9 *4 = 36, 16 * 4 = 64, 25 *4 = 100\n",
        "    elif sequencia == 'e':\n",
        "        return 13  # sequência de Fibonacci 1, 1+0 = 1, 1+1 = 2, 1 + 2 = 3, 2 + 3 = 5, 3 + 5= 8, 5 + 8 = 13\n",
        "    elif sequencia == 'f':\n",
        "        return 20  # O numero que se adiciona varia, mas seguindo a logica dos ultimos numeros seria 20,pois os ultimos todos acrescentam em 1.\n",
        "\n",
        "# Exemplo de uso para cada sequência\n",
        "for seq in ['a', 'b', 'c', 'd', 'e', 'f']:\n",
        "    print(f\"Próximo elemento para a sequência {seq}: {proximo_elemento(seq)}\")\n"
      ],
      "metadata": {
        "colab": {
          "base_uri": "https://localhost:8080/"
        },
        "id": "kcCWPyybSzH6",
        "outputId": "962221ce-1229-427d-eb72-a743db7b35b5"
      },
      "execution_count": 7,
      "outputs": [
        {
          "output_type": "stream",
          "name": "stdout",
          "text": [
            "Próximo elemento para a sequência a: 9\n",
            "Próximo elemento para a sequência b: 128\n",
            "Próximo elemento para a sequência c: 49\n",
            "Próximo elemento para a sequência d: 100\n",
            "Próximo elemento para a sequência e: 13\n",
            "Próximo elemento para a sequência f: 20\n"
          ]
        }
      ]
    },
    {
      "cell_type": "markdown",
      "source": [
        "Tópico 5: Interruptores e Lâmpadas"
      ],
      "metadata": {
        "id": "ZFlTxA_fS9iZ"
      }
    },
    {
      "cell_type": "markdown",
      "source": [
        "Eu faria algo diferente com os três interruptores, um eu deixaria ligado o tempo inteiro, o outro eu deixaria ligado por um tempo e desligaria o por fim o terceiro eu nem ligaria. Ai eu entraria em uma sala, a sala que eu entrasse se ela estivesse com a luz ligada eu saberia que é o unico interruptor que deixei ligado, se ela estivesse desligada e morna eu saberia que foi a que eu liguei e desliguei se ela estivesse gelada eu saberia que seria a que eu nunca teria ligado. Eu repetiria o mesmo teste com os outro dois interruptores que restaram só que um eu deixaria ligado e o outro desligado, caso eu entrasse na sala a luz estivesse ligada eu saberia qual é o interruptor caso contrário era o outro assim eu saberia qual interruptor é qual."
      ],
      "metadata": {
        "id": "AKyIb8MAboRy"
      }
    }
  ]
}